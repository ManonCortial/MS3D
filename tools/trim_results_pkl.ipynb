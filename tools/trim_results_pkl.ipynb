{
 "cells": [
  {
   "cell_type": "code",
   "execution_count": 3,
   "id": "c43f82ea",
   "metadata": {},
   "outputs": [
    {
     "name": "stdout",
     "output_type": "stream",
     "text": [
      "Number of detectors:  24\n"
     ]
    },
    {
     "name": "stderr",
     "output_type": "stream",
     "text": [
      "aggregating_proposals: 100%|██████████████| 18840/18840 [05:20<00:00, 58.70it/s]\n"
     ]
    }
   ],
   "source": [
    "import sys\n",
    "sys.path.append('/MS3D')\n",
    "from pcdet.utils import box_fusion_utils\n",
    "from tqdm import tqdm \n",
    "import numpy as np\n",
    "\n",
    "dets_txt = '/MS3D/tools/cfgs/target_waymo/kbf_combinations/pv_vox_c.txt'\n",
    "\n",
    "ps_dict = {}\n",
    "det_annos = box_fusion_utils.load_src_paths_txt(dets_txt)\n",
    "print('Number of detectors: ', len(det_annos))\n",
    "combined_dets = box_fusion_utils.combine_box_pkls(det_annos, score_th=0.1)"
   ]
  },
  {
   "cell_type": "code",
   "execution_count": 18,
   "id": "e35af54c",
   "metadata": {},
   "outputs": [],
   "source": [
    "mydict = {}\n",
    "for frame_idx, frame_dets in enumerate(combined_dets):\n",
    "    mydict[frame_idx] = {}\n",
    "    mydict[frame_idx]['ped_count'] = np.count_nonzero(frame_dets['names'] == 'Pedestrian')\n",
    "    mydict[frame_idx]['cyc_count'] = np.count_nonzero(frame_dets['names'] == 'Cyclist')"
   ]
  },
  {
   "cell_type": "code",
   "execution_count": 26,
   "id": "dd085d19",
   "metadata": {},
   "outputs": [
    {
     "name": "stdout",
     "output_type": "stream",
     "text": [
      "2205\n"
     ]
    }
   ],
   "source": [
    "keep_idx = []\n",
    "for k,v in mydict.items():\n",
    "    if (v['ped_count'] < 100) or (v['cyc_count'] < 100):\n",
    "        continue\n",
    "    keep_idx.append(k)\n",
    "print(len(keep_idx))"
   ]
  },
  {
   "cell_type": "code",
   "execution_count": 27,
   "id": "2621c3bd",
   "metadata": {},
   "outputs": [],
   "source": [
    "sampled_cdets = []\n",
    "for idx in keep_idx:\n",
    "    sampled_cdets.append(combined_dets[idx])"
   ]
  },
  {
   "cell_type": "code",
   "execution_count": 30,
   "id": "13363898",
   "metadata": {},
   "outputs": [],
   "source": [
    "from pcdet.utils import generate_ps_utils \n",
    "generate_ps_utils.save_data(sampled_cdets, '/MS3D/tools/cfgs/target_waymo/kbf_combinations', \n",
    "                            name=f\"pv_vox_c_combined_dets_2205_lotsofpedcyc.pkl\")"
   ]
  },
  {
   "cell_type": "code",
   "execution_count": null,
   "id": "3863d4c4",
   "metadata": {},
   "outputs": [],
   "source": []
  }
 ],
 "metadata": {
  "kernelspec": {
   "display_name": "Python 3 (ipykernel)",
   "language": "python",
   "name": "python3"
  },
  "language_info": {
   "codemirror_mode": {
    "name": "ipython",
    "version": 3
   },
   "file_extension": ".py",
   "mimetype": "text/x-python",
   "name": "python",
   "nbconvert_exporter": "python",
   "pygments_lexer": "ipython3",
   "version": "3.7.5"
  }
 },
 "nbformat": 4,
 "nbformat_minor": 5
}
