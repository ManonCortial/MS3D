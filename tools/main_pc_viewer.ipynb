{
 "cells": [
  {
   "cell_type": "code",
   "execution_count": 8,
   "id": "c9e0d4e1",
   "metadata": {},
   "outputs": [
    {
     "name": "stderr",
     "output_type": "stream",
     "text": [
      "2023-04-17 03:37:36,791   INFO  Loading Waymo dataset\n",
      "2023-04-17 03:37:36,791   INFO  Loading Waymo dataset\n",
      "2023-04-17 03:37:36,791   INFO  Loading Waymo dataset\n",
      "2023-04-17 03:37:36,791   INFO  Loading Waymo dataset\n",
      "2023-04-17 03:37:38,988   INFO  Total skipped info 0\n",
      "2023-04-17 03:37:38,988   INFO  Total skipped info 0\n",
      "2023-04-17 03:37:38,988   INFO  Total skipped info 0\n",
      "2023-04-17 03:37:38,988   INFO  Total skipped info 0\n",
      "2023-04-17 03:37:38,990   INFO  Total samples for Waymo dataset: 37680\n",
      "2023-04-17 03:37:38,990   INFO  Total samples for Waymo dataset: 37680\n",
      "2023-04-17 03:37:38,990   INFO  Total samples for Waymo dataset: 37680\n",
      "2023-04-17 03:37:38,990   INFO  Total samples for Waymo dataset: 37680\n"
     ]
    }
   ],
   "source": [
    "import sys\n",
    "sys.path.append('/MS3D')\n",
    "import pickle\n",
    "from pathlib import Path\n",
    "from pcdet.utils.transform_utils import ego_to_world, world_to_ego\n",
    "import numpy as np\n",
    "np.set_printoptions(precision=4, suppress=True)\n",
    "from pcdet.utils import generate_ps_utils\n",
    "from visualize_bev import plot_boxes \n",
    "from pcdet.utils.tracker_utils import get_frame_track_boxes\n",
    "from pcdet.utils import compatibility_utils as compat\n",
    "from pcdet.config import cfg, cfg_from_yaml_file\n",
    "from pcdet.utils import common_utils\n",
    "from pcdet.datasets import build_dataloader\n",
    "def load_pkl(pth):\n",
    "    with open(pth, 'rb') as f:\n",
    "        pkl_file = pickle.load(f)\n",
    "    return pkl_file\n",
    "\n",
    "def plot_pointcloud(pts, limit_range, size=0.5, c='black'):\n",
    "    plt.figure(figsize=(8,8))\n",
    "    ax = plt.subplot(111)    \n",
    "    mask = mask_points_by_range(pts, limit_range)\n",
    "    ax.scatter(pts[mask][:,0],pts[mask][:,1],s=size, c=c, marker='o')\n",
    "    return plt, ax\n",
    "\n",
    "\n",
    "# cfg_file = 'cfgs/source-waymo/secondiou_ft_once.yaml'\n",
    "# cfg_file = 'cfgs/target-nuscenes/ft_waymo_secondiou.yaml'\n",
    "cfg_file = 'cfgs/target-waymo/ft_nuscenes_secondiou.yaml'\n",
    "# cfg_file = 'cfgs/target-lyft/nuscenes_secondiou.yaml'\n",
    "cfg_from_yaml_file(cfg_file, cfg)\n",
    "cfg.DATA_CONFIG_TAR .DATA_SPLIT.test='train'\n",
    "if cfg.DATA_CONFIG_TAR.get('USE_TTA', False):\n",
    "    cfg.DATA_CONFIG_TAR.USE_TTA=False\n",
    "    \n",
    "cfg.DATA_CONFIG_TAR.USE_PSEUDO_LABEL=False\n",
    "cfg.DATA_CONFIG_TAR.SAMPLED_INTERVAL.test=1\n",
    "logger = common_utils.create_logger('temp.txt', rank=cfg.LOCAL_RANK)\n",
    "target_set, target_loader, sampler = build_dataloader(\n",
    "            dataset_cfg=cfg.DATA_CONFIG_TAR,\n",
    "            class_names=cfg.DATA_CONFIG_TAR.CLASS_NAMES,\n",
    "            batch_size=1, logger=logger, training=False, dist=False, workers=1\n",
    "        )\n",
    "idx_to_frameid = {v: k for k, v in target_set.frameid_to_idx.items()}"
   ]
  },
  {
   "cell_type": "code",
   "execution_count": 206,
   "id": "90345656",
   "metadata": {},
   "outputs": [],
   "source": [
    "from pcdet.datasets.augmentor.augmentor_utils import get_points_in_box\n",
    "\n",
    "box_list = []\n",
    "accum_pts = []\n",
    "seq_id = 'segment-9142545919543484617_86_000_106_000_with_camera_labels'\n",
    "seq_infos = target_set.seq_name_to_infos[seq_id]\n",
    "for seq_info in seq_infos:\n",
    "    pose = compat.get_pose(target_set, seq_info['frame_id'])\n",
    "    pts = compat.get_lidar(target_set, seq_info['frame_id'])\n",
    "    pts, _ = ego_to_world(pose, points=pts)\n",
    "    \n",
    "    frame_boxes = seq_info['annos']['gt_boxes_lidar']\n",
    "    _, frame_boxes = ego_to_world(pose, boxes=frame_boxes)\n",
    "#     res = np.array([100,16612]) - frame_boxes[:,:2] # 13506499849906169066_120_000_140_000_with_camera_labels\n",
    "    res = np.array([-525,522]) - frame_boxes[:,:2]\n",
    "    mask = (abs(res[:,0]) < 1) & (abs(res[:,1]) < 1)\n",
    "    mygt = frame_boxes[mask]\n",
    "    if len(mygt) > 1:\n",
    "        print('more than 1')\n",
    "        break\n",
    "    if len(mygt) == 0:\n",
    "        continue\n",
    "    mygt = mygt.squeeze()\n",
    "    box_list.append(mygt)\n",
    "    \n",
    "    ground_lift = 0.12\n",
    "    mygt += np.array([0,0,+ground_lift,0,0,-2*ground_lift,0,0,0])\n",
    "    obj_pts, mask = get_points_in_box(pts, mygt)\n",
    "    accum_pts.append(obj_pts)    \n",
    "    "
   ]
  },
  {
   "cell_type": "code",
   "execution_count": 216,
   "id": "33f20f47",
   "metadata": {},
   "outputs": [],
   "source": [
    "from visual_utils.open3d_vis_utils import translate_boxes_to_open3d_instance\n",
    "\n",
    "all_gt_boxes = []\n",
    "for box in box_list:    \n",
    "    line_set, _ = translate_boxes_to_open3d_instance(box.squeeze(), \n",
    "                                                    use_linemesh=True, \n",
    "                                                     line_thickness=0.0007)\n",
    "    for lines in line_set:\n",
    "        lines.paint_uniform_color([0.2,0.4,0.6])\n",
    "    all_gt_boxes.extend(line_set)"
   ]
  },
  {
   "cell_type": "code",
   "execution_count": 217,
   "id": "2d292b42",
   "metadata": {},
   "outputs": [],
   "source": [
    "import open3d as o3d\n",
    "from visual_utils.common_vis import convert_to_o3dpcd, convert_to_o3dbox\n",
    "\n",
    "from matplotlib.cm import get_cmap\n",
    "cmap = get_cmap('Paired')\n",
    "# cmap = get_cmap('Set1')\n",
    "colors = np.array(cmap.colors)[1:]\n",
    "# colors = np.array([[0.651 , 0.8078, 0.8902],[0.8,0.4,0.2],[0.4,1,0.2],[0,0,1],[1,1,1]])\n",
    "c_counter = 0\n",
    "all_pcds = []\n",
    "for enum, a_pts in enumerate(accum_pts):\n",
    "\n",
    "    pcd = convert_to_o3dpcd(a_pts)\n",
    "    pcd.paint_uniform_color(colors[c_counter % 20])\n",
    "    all_pcds.append(pcd)\n",
    "    \n",
    "    if enum % 35 == 0:\n",
    "        c_counter += 1\n",
    "        \n",
    "# o3dbox = convert_to_o3dbox(np.vstack(box_list), colour=[0.2,0.4,0.6])\n",
    "o3d.visualization.draw_geometries(all_pcds + all_gt_boxes)\n",
    "# o3d.visualization.draw_geometries(all_pcds)"
   ]
  },
  {
   "cell_type": "code",
   "execution_count": 12,
   "id": "7f5ffbda",
   "metadata": {},
   "outputs": [],
   "source": [
    "frame_id = 'segment-9142545919543484617_86_000_106_000_with_camera_labels_102'\n",
    "# centre at -555,517\n",
    "\n",
    "pose = compat.get_pose(target_set, frame_id)\n",
    "class_mask = np.array([n in target_set.class_names for n in compat.get_gt_names(target_set, frame_id)], \n",
    "                      dtype=np.bool_)\n",
    "gt_boxes = compat.get_gt_boxes(target_set, frame_id)[class_mask]\n",
    "_, gt_boxes = ego_to_world(pose, boxes=gt_boxes)"
   ]
  },
  {
   "cell_type": "code",
   "execution_count": 42,
   "id": "6f7e3072",
   "metadata": {},
   "outputs": [
    {
     "data": {
      "text/plain": [
       "array([[-554.8728,  516.7043,   38.4496,    4.2482,    1.9889,    1.34  ,\n",
       "           1.485 ,    0.0351,   -0.0092]])"
      ]
     },
     "execution_count": 42,
     "metadata": {},
     "output_type": "execute_result"
    }
   ],
   "source": [
    "res = np.array([-555,517]) - gt_boxes[:,:2]\n",
    "mask = (abs(res[:,0]) < 0.5) & (abs(res[:,1]) < 0.5)\n",
    "gt_boxes[mask]"
   ]
  },
  {
   "cell_type": "code",
   "execution_count": null,
   "id": "70283919",
   "metadata": {},
   "outputs": [],
   "source": []
  }
 ],
 "metadata": {
  "kernelspec": {
   "display_name": "Python 3 (ipykernel)",
   "language": "python",
   "name": "python3"
  },
  "language_info": {
   "codemirror_mode": {
    "name": "ipython",
    "version": 3
   },
   "file_extension": ".py",
   "mimetype": "text/x-python",
   "name": "python",
   "nbconvert_exporter": "python",
   "pygments_lexer": "ipython3",
   "version": "3.7.5"
  }
 },
 "nbformat": 4,
 "nbformat_minor": 5
}
