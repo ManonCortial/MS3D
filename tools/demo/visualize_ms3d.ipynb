{
 "cells": [
  {
   "cell_type": "markdown",
   "id": "1d48c5eb",
   "metadata": {},
   "source": [
    "# Visualize MS3D\n",
    "\n",
    "This is a notebook for visualizing detections on the point cloud. Here we show each step of the pseudo-labels such as KBF boxes, tracks, and final pseudo-labels so you can get an idea of how our approach works."
   ]
  },
  {
   "cell_type": "code",
   "execution_count": 1,
   "id": "407b0434",
   "metadata": {},
   "outputs": [
    {
     "ename": "SyntaxError",
     "evalue": "invalid syntax (2850252348.py, line 25)",
     "output_type": "error",
     "traceback": [
      "\u001b[0;36m  File \u001b[0;32m\"/tmp/ipykernel_21424/2850252348.py\"\u001b[0;36m, line \u001b[0;32m25\u001b[0m\n\u001b[0;31m    pth=\u001b[0m\n\u001b[0m        ^\u001b[0m\n\u001b[0;31mSyntaxError\u001b[0m\u001b[0;31m:\u001b[0m invalid syntax\n"
     ]
    }
   ],
   "source": [
    "from quick_vis_bev import plot_boxes \n",
    "from pcdet.utils import compatibility_utils as compat\n",
    "from pcdet.utils.transform_utils import ego_to_world, world_to_ego\n",
    "from pcdet.utils.tracker_utils import get_frame_track_boxes\n",
    "\n",
    "def load_pkl(pth):\n",
    "    with open(pth, 'rb') as f:\n",
    "        pkl_file = pickle.load(f)\n",
    "    return pkl_file\n",
    "\n",
    "def plot_pointcloud(pts, limit_range, size=0.5, c='black'):\n",
    "    plt.figure(figsize=(8,8))\n",
    "    ax = plt.subplot(111)    \n",
    "    mask = mask_points_by_range(pts, limit_range)\n",
    "    ax.scatter(pts[mask][:,0],pts[mask][:,1],s=size, c=c, marker='o')\n",
    "    return plt, ax\n",
    "\n",
    "all_dets = load_pkl('/OpenPCDet/tools/demo/demo_ps/all_dets.pkl') # Raw detections from all detectors\n",
    "kbf_1f = load_pkl('/OpenPCDet/tools/demo/demo_ps/ps_dict_1f.pkl') # 1-frame KBF detections\n",
    "kbf_16f = load_pkl('/OpenPCDet/tools/demo/demo_ps/ps_dict_16f.pkl') # 16-frame KBF detections\n",
    "tracks_1f = load_pkl('/OpenPCDet/tools/demo/demo_ps/tracks_1f.pkl')\n",
    "tracks_16f = load_pkl('/OpenPCDet/tools/demo/demo_ps/tracks_16f.pkl')\n",
    "ps_e0 = load_pkl('/OpenPCDet/tools/demo/demo_ps/ps_label_e0.pkl') # Final pseudo-labels"
   ]
  },
  {
   "cell_type": "code",
   "execution_count": null,
   "id": "df702db2",
   "metadata": {},
   "outputs": [],
   "source": [
    "%matplotlib notebook\n",
    "\n",
    "idx = 20\n",
    "pc_range = 80\n",
    "\n",
    "## Note: uncomment all ego_to_world lines if you want to visualize in world frame\n",
    "\n",
    "# ===== Plot pointcloud =====\n",
    "frame_id = compat.get_frame_id(target_set, target_set.infos[idx])\n",
    "pose = compat.get_pose(target_set, frame_id)\n",
    "pts = target_set[idx]['points']\n",
    "# pts, _ = ego_to_world(pose, points=pts) # Uncomment if you want to visualize in world frame\n",
    "pc_mean = np.mean(pts, axis=0)    \n",
    "limit_range = [pc_mean[0]-pc_range, pc_mean[1]-pc_range, -5.0, pc_mean[0]+pc_range, pc_mean[1]+pc_range, 3.0]\n",
    "plt, ax = plot_pointcloud(pts, limit_range, size=0.5, c=np.array([[0.3,0.3,0.3]]))\n",
    "\n",
    "# ===== Plot ground truth boxes =====\n",
    "classes=['Vehicle']\n",
    "class_mask = np.array([n in classes for n in compat.get_gt_names(target_set, frame_id)], \n",
    "                      dtype=np.bool_)\n",
    "gt_boxes = compat.get_gt_boxes(target_set, frame_id)[class_mask]\n",
    "# _, gt_boxes = ego_to_world(pose, boxes=gt_boxes) \n",
    "plot_boxes(ax, gt_boxes, color=[0.2,0.3,0.8],linewidth=2,label='Ground-truth', limit_range=limit_range, alpha=1)\n",
    "\n",
    "# ===== Plot KBF 1-frame =====\n",
    "dets = kbf_1f[frame_id]['gt_boxes']\n",
    "score_mask = dets[:,8] > 0.4\n",
    "# _, ps = ego_to_world(pose, boxes=ps)\n",
    "plot_boxes(ax, dets[score_mask], scores=dets[:,8][score_mask],\n",
    "               color=[0.8,0,0.8],linestyle='solid',linewidth=1.5,label='KBF-1F',\n",
    "               limit_range=limit_range, alpha=1)\n",
    "\n",
    "# ===== Plot KBF 16-frame =====\n",
    "dets = kbf_16f[frame_id]['gt_boxes']\n",
    "score_mask = dets[:,8] > 0.4\n",
    "# _, ps = ego_to_world(pose, boxes=ps)\n",
    "plot_boxes(ax, dets[score_mask], scores=dets[:,8][score_mask],\n",
    "               color=[0.8,0,0.8],linestyle='solid',linewidth=1.5,label='KBF-16F',\n",
    "               limit_range=limit_range, alpha=1)\n",
    "\n",
    "# ===== Plot 1-frame tracks =====\n",
    "# Tracks are in world frame; need to transform to ego frame to visualize with the rest of the boxes\n",
    "tboxes = get_frame_track_boxes(tracks_1f, frame_id, frame2box_key='frameid_to_box')\n",
    "_, tboxes = world_to_ego(pose, boxes=tboxes) \n",
    "plot_boxes(ax, tboxes, \n",
    "               scores=tboxes[:,8],\n",
    "               color=[0.7,0,0.7],\n",
    "               linestyle='solid',linewidth=2.0,\n",
    "               limit_range=limit_range, alpha=1)\n",
    "\n",
    "# ===== Plot 16-frame tracks =====\n",
    "tboxes = get_frame_track_boxes(tracks_16f, frame_id, frame2box_key='frameid_to_box')\n",
    "_, tboxes = world_to_ego(pose, boxes=tboxes)\n",
    "plot_boxes(ax, tboxes, \n",
    "               scores=tboxes[:,8],\n",
    "               color=[0.7,0,0.7],\n",
    "               linestyle='solid',linewidth=2.0,\n",
    "               limit_range=limit_range, alpha=1)\n",
    "\n",
    "# ===== Plot final pseudo labels =====\n",
    "dets = ps_e0[frame_id]['gt_boxes']\n",
    "score_mask = dets[:,8] > 0.4\n",
    "# _, ps = ego_to_world(pose, boxes=ps)\n",
    "plot_boxes(ax, dets[score_mask], scores=dets[:,8][score_mask],\n",
    "               color=[0.8,0,0.8],linestyle='solid',linewidth=1.5,label='Final Labels',\n",
    "               limit_range=limit_range, alpha=1)"
   ]
  }
 ],
 "metadata": {
  "kernelspec": {
   "display_name": "Python 3 (ipykernel)",
   "language": "python",
   "name": "python3"
  },
  "language_info": {
   "codemirror_mode": {
    "name": "ipython",
    "version": 3
   },
   "file_extension": ".py",
   "mimetype": "text/x-python",
   "name": "python",
   "nbconvert_exporter": "python",
   "pygments_lexer": "ipython3",
   "version": "3.7.5"
  }
 },
 "nbformat": 4,
 "nbformat_minor": 5
}
